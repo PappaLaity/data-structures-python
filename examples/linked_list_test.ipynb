{
 "cells": [
  {
   "cell_type": "markdown",
   "metadata": {},
   "source": [
    "# Linked List Data Structure"
   ]
  },
  {
   "cell_type": "code",
   "execution_count": 1,
   "metadata": {},
   "outputs": [],
   "source": [
    "import sys\n",
    "import os\n",
    "\n",
    "sys.path.append(os.path.abspath(\"..\"))"
   ]
  },
  {
   "cell_type": "code",
   "execution_count": null,
   "metadata": {},
   "outputs": [
    {
     "name": "stdout",
     "output_type": "stream",
     "text": [
      "2->"
     ]
    }
   ],
   "source": [
    "from data_structures.linked_list import LinkedList\n",
    "\n",
    "\n",
    "linked_list = LinkedList()\n",
    "\n",
    "linked_list.insertAtBeginning(2)\n",
    "linked_list.display()\n",
    "\n",
    "\n",
    "# linked_list.display()\n"
   ]
  },
  {
   "cell_type": "code",
   "execution_count": 3,
   "metadata": {},
   "outputs": [
    {
     "name": "stdout",
     "output_type": "stream",
     "text": [
      "2->4->"
     ]
    }
   ],
   "source": [
    "# linked_list.delete(1)\n",
    "linked_list.insertAtEnd(4)\n",
    "linked_list.display()"
   ]
  },
  {
   "cell_type": "code",
   "execution_count": 4,
   "metadata": {},
   "outputs": [
    {
     "name": "stdout",
     "output_type": "stream",
     "text": [
      "5->2->4->"
     ]
    }
   ],
   "source": [
    "linked_list.insertAtBeginning(5)\n",
    "linked_list.display()"
   ]
  },
  {
   "cell_type": "code",
   "execution_count": 5,
   "metadata": {},
   "outputs": [
    {
     "name": "stdout",
     "output_type": "stream",
     "text": [
      "5->2->4->3->"
     ]
    }
   ],
   "source": [
    "linked_list.insertAfter(3,2)\n",
    "linked_list.display()"
   ]
  },
  {
   "cell_type": "code",
   "execution_count": 6,
   "metadata": {},
   "outputs": [
    {
     "name": "stdout",
     "output_type": "stream",
     "text": [
      "5->2->3->"
     ]
    }
   ],
   "source": [
    "linked_list.delete(2)\n",
    "linked_list.display()"
   ]
  },
  {
   "cell_type": "code",
   "execution_count": 7,
   "metadata": {},
   "outputs": [
    {
     "name": "stdout",
     "output_type": "stream",
     "text": [
      "Index 5 not in the linked list\n",
      "5->2->3->"
     ]
    }
   ],
   "source": [
    "linked_list.delete(5)\n",
    "linked_list.display()"
   ]
  },
  {
   "cell_type": "code",
   "execution_count": 9,
   "metadata": {},
   "outputs": [
    {
     "name": "stdout",
     "output_type": "stream",
     "text": [
      "3\n",
      "Data successfully updated\n",
      "5->2->10->"
     ]
    }
   ],
   "source": [
    "linked_list.update(2,10)\n",
    "linked_list.display()\n"
   ]
  },
  {
   "cell_type": "code",
   "execution_count": 10,
   "metadata": {},
   "outputs": [
    {
     "name": "stdout",
     "output_type": "stream",
     "text": [
      "3\n",
      "The index 20 doesn't exist in this list\n",
      "5->2->10->"
     ]
    }
   ],
   "source": [
    "\n",
    "linked_list.update(20, 1)\n",
    "linked_list.display()"
   ]
  }
 ],
 "metadata": {
  "kernelspec": {
   "display_name": ".venv",
   "language": "python",
   "name": "python3"
  },
  "language_info": {
   "codemirror_mode": {
    "name": "ipython",
    "version": 3
   },
   "file_extension": ".py",
   "mimetype": "text/x-python",
   "name": "python",
   "nbconvert_exporter": "python",
   "pygments_lexer": "ipython3",
   "version": "3.13.2"
  }
 },
 "nbformat": 4,
 "nbformat_minor": 2
}
