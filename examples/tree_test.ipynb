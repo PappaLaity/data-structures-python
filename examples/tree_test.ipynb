{
 "cells": [
  {
   "cell_type": "markdown",
   "metadata": {},
   "source": [
    "# Tree Data Structure"
   ]
  },
  {
   "cell_type": "code",
   "execution_count": 1,
   "metadata": {},
   "outputs": [],
   "source": [
    "import sys\n",
    "import os\n",
    "\n",
    "sys.path.append(os.path.abspath(\"..\"))"
   ]
  },
  {
   "cell_type": "code",
   "execution_count": 2,
   "metadata": {},
   "outputs": [],
   "source": [
    "from data_structures.tree import BinaryTree\n"
   ]
  },
  {
   "cell_type": "code",
   "execution_count": 3,
   "metadata": {},
   "outputs": [
    {
     "name": "stdout",
     "output_type": "stream",
     "text": [
      "Insert to left of node 5\n",
      "Insert to left of root 5\n",
      "Insert to right of node 2\n",
      "Insert to left of root 5\n",
      "Insert to rigth of root 2\n",
      "Insert to left of node 4\n",
      "Insert to right of node 5\n",
      "Insert to rigth of root 5\n",
      "Insert to left of node 8\n",
      "Insert to rigth of root 5\n",
      "Insert to right of node 8\n"
     ]
    }
   ],
   "source": [
    "\n",
    "tree = BinaryTree()\n",
    "tree.insert(5)\n",
    "tree.insert(2)\n",
    "tree.insert(4)\n",
    "tree.insert(3)\n",
    "tree.insert(8)\n",
    "tree.insert(7)\n",
    "tree.insert(10)"
   ]
  },
  {
   "cell_type": "code",
   "execution_count": 4,
   "metadata": {},
   "outputs": [
    {
     "name": "stdout",
     "output_type": "stream",
     "text": [
      "5\n"
     ]
    }
   ],
   "source": [
    "head = tree.head()\n",
    "print(head.data)"
   ]
  },
  {
   "cell_type": "code",
   "execution_count": 5,
   "metadata": {},
   "outputs": [
    {
     "name": "stdout",
     "output_type": "stream",
     "text": [
      "2 3 4 5 7 8 10 "
     ]
    }
   ],
   "source": [
    "from data_structures.tree import printInorder\n",
    "\n",
    "\n",
    "printInorder(tree.head())"
   ]
  },
  {
   "cell_type": "code",
   "execution_count": 7,
   "metadata": {},
   "outputs": [
    {
     "name": "stdout",
     "output_type": "stream",
     "text": [
      "5 2 3 4 7 8 10 "
     ]
    }
   ],
   "source": [
    "from data_structures.tree import printPreOrder\n",
    "\n",
    "\n",
    "printPreOrder(tree.head())"
   ]
  },
  {
   "cell_type": "code",
   "execution_count": 8,
   "metadata": {},
   "outputs": [
    {
     "name": "stdout",
     "output_type": "stream",
     "text": [
      "2 3 4 7 8 10 5 "
     ]
    }
   ],
   "source": [
    "from data_structures.tree import printPostOrder\n",
    "\n",
    "\n",
    "printPostOrder(tree.head())"
   ]
  }
 ],
 "metadata": {
  "kernelspec": {
   "display_name": ".venv",
   "language": "python",
   "name": "python3"
  },
  "language_info": {
   "codemirror_mode": {
    "name": "ipython",
    "version": 3
   },
   "file_extension": ".py",
   "mimetype": "text/x-python",
   "name": "python",
   "nbconvert_exporter": "python",
   "pygments_lexer": "ipython3",
   "version": "3.13.2"
  }
 },
 "nbformat": 4,
 "nbformat_minor": 2
}
